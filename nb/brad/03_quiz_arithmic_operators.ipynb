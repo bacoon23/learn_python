{
 "cells": [
  {
   "cell_type": "markdown",
   "metadata": {},
   "source": [
    "# Quiz: Average Electricity Bill\n",
    "It's time to try a calculation in Python!\n",
    "\n",
    "My electricity bills for the last three months have been $23, $32 and $64. What is the average monthly electricity bill over the three month period? Write an expression to calculate the mean, and use print() to view the result."
   ]
  },
  {
   "cell_type": "code",
   "execution_count": 1,
   "metadata": {},
   "outputs": [
    {
     "name": "stdout",
     "output_type": "stream",
     "text": [
      "39.666666666666664\n"
     ]
    }
   ],
   "source": [
    "# Write an expression that calculates the average of 23, 32 and 64\n",
    "# Place the expression in this print statement\n",
    "print((23+32+64)/3)"
   ]
  },
  {
   "cell_type": "markdown",
   "metadata": {},
   "source": [
    "# Quiz: Calculate\n",
    "In this quiz you're going to do some calculations for a tiler. Two parts of a floor need tiling. One part is **9 tiles wide by 7 tiles long**, the other is **5 tiles wide by 7 tiles long**. Tiles come in packages of 6.\n",
    "\n",
    " * **How many tiles are needed?**\n",
    " * **You buy 17 packages of tiles containing 6 tiles each. How many tiles will be left over?**"
   ]
  },
  {
   "cell_type": "code",
   "execution_count": 5,
   "metadata": {},
   "outputs": [
    {
     "name": "stdout",
     "output_type": "stream",
     "text": [
      "98\n",
      "4\n"
     ]
    }
   ],
   "source": [
    "# Fill this in with an expression that calculates how many tiles are needed.\n",
    "print(9*7+5*7)\n",
    "\n",
    "# Fill this in with an expression that calculates how many tiles will be left over.\n",
    "print(17*6-(9*7+5*7))"
   ]
  },
  {
   "cell_type": "code",
   "execution_count": null,
   "metadata": {},
   "outputs": [],
   "source": []
  }
 ],
 "metadata": {
  "kernelspec": {
   "display_name": "Python 3",
   "language": "python",
   "name": "python3"
  },
  "language_info": {
   "codemirror_mode": {
    "name": "ipython",
    "version": 3
   },
   "file_extension": ".py",
   "mimetype": "text/x-python",
   "name": "python",
   "nbconvert_exporter": "python",
   "pygments_lexer": "ipython3",
   "version": "3.7.5"
  }
 },
 "nbformat": 4,
 "nbformat_minor": 4
}
